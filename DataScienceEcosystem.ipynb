{
 "cells": [
  {
   "cell_type": "markdown",
   "id": "f7bff25e-e646-46db-9fd9-199568622f05",
   "metadata": {},
   "source": [
    "# Инструменты и экосистема Data science"
   ]
  },
  {
   "cell_type": "markdown",
   "id": "6fb84047-62d3-41b6-812a-55890128e858",
   "metadata": {},
   "source": [
    "В этом блокноте представлены инструменты и экосистема Data science."
   ]
  },
  {
   "cell_type": "markdown",
   "id": "989d4835-c3fd-4ace-abf4-8f72ee2ab8b7",
   "metadata": {},
   "source": [
    "# Цели:\n",
    "- Перечислить языки data science\n",
    "- Перечислить библиотеки data science\n",
    "- Перечислить инструменты data science"
   ]
  },
  {
   "cell_type": "markdown",
   "id": "03bfffb0-f268-46bf-ba1c-434f6ddd6210",
   "metadata": {},
   "source": [
    "Некоторые из популярных языков, которые используют специалисты по Data Science:\n",
    "- Python\n",
    "- R\n",
    "- SQL"
   ]
  },
  {
   "cell_type": "markdown",
   "id": "048849ae-a457-4881-a5a1-d012ac3e8242",
   "metadata": {},
   "source": [
    "Некоторые из часто используемых библиотек, которые используют специалисты по Data Science, включают:\n",
    "- NumPy\n",
    "- Pandas\n",
    "- Matplotlib\n",
    "- Scipy"
   ]
  },
  {
   "cell_type": "markdown",
   "id": "dd453e4f-c081-4bc2-a4e6-960958948eb5",
   "metadata": {},
   "source": [
    "| Инструменты Data Science |\n",
    "|--------------------------|\n",
    "| Jupyter Notebook         |\n",
    "|Pycharm                   |\n",
    "|Google colab|\n",
    "|Github|\n"
   ]
  },
  {
   "cell_type": "markdown",
   "id": "1953f4f5-a099-4766-8e49-90e42307d7cb",
   "metadata": {},
   "source": [
    "Ниже приведены несколько примеров оценки арифметических выражений в Python"
   ]
  },
  {
   "cell_type": "code",
   "execution_count": 6,
   "id": "2eceee7f-b52f-4c0e-b0a8-151cdfd6ce57",
   "metadata": {},
   "outputs": [
    {
     "data": {
      "text/plain": [
       "17"
      ]
     },
     "execution_count": 6,
     "metadata": {},
     "output_type": "execute_result"
    }
   ],
   "source": [
    "# Это простое арифметическое выражение для умножения, а затем сложения целых чисел\n",
    "(3*4)+5"
   ]
  },
  {
   "cell_type": "code",
   "execution_count": 7,
   "id": "49b7eba9-aeee-49cf-92f3-29ded5158453",
   "metadata": {},
   "outputs": [
    {
     "data": {
      "text/plain": [
       "3.3333333333333335"
      ]
     },
     "execution_count": 7,
     "metadata": {},
     "output_type": "execute_result"
    }
   ],
   "source": [
    "# Это преобразует 200 минут в часы, деля на 60\n",
    "200/60"
   ]
  },
  {
   "cell_type": "markdown",
   "id": "ddd1afd3-fd1b-42af-9790-0dbada31cbe9",
   "metadata": {},
   "source": [
    "## Автор\n",
    "Andrey Klein"
   ]
  },
  {
   "cell_type": "code",
   "execution_count": null,
   "id": "81eb5350-a55f-46d5-aa2e-5ce8a8931a95",
   "metadata": {},
   "outputs": [],
   "source": []
  }
 ],
 "metadata": {
  "kernelspec": {
   "display_name": "Python 3 (ipykernel)",
   "language": "python",
   "name": "python3"
  },
  "language_info": {
   "codemirror_mode": {
    "name": "ipython",
    "version": 3
   },
   "file_extension": ".py",
   "mimetype": "text/x-python",
   "name": "python",
   "nbconvert_exporter": "python",
   "pygments_lexer": "ipython3",
   "version": "3.12.5"
  }
 },
 "nbformat": 4,
 "nbformat_minor": 5
}
